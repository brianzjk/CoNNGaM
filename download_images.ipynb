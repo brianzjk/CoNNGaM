{
 "cells": [
  {
   "cell_type": "code",
   "execution_count": 1,
   "id": "0e7b3a18",
   "metadata": {},
   "outputs": [
    {
     "name": "stderr",
     "output_type": "stream",
     "text": [
      "C:\\Users\\brian\\anaconda3\\Lib\\site-packages\\paramiko\\transport.py:219: CryptographyDeprecationWarning: Blowfish has been deprecated\n",
      "  \"class\": algorithms.Blowfish,\n"
     ]
    }
   ],
   "source": [
    "import skimage.io\n",
    "import pandas as pd\n",
    "import time\n",
    "import sys\n",
    "import os\n",
    "import requests\n",
    "import urllib\n",
    "from tqdm import tqdm"
   ]
  },
  {
   "cell_type": "code",
   "execution_count": 6,
   "id": "20bd41ad",
   "metadata": {},
   "outputs": [],
   "source": [
    "def main():\n",
    "    start = time.time()\n",
    "\n",
    "    # load the data\n",
    "    df = pd.read_csv(\"C:/Users/brian/Documents/Research/galaxies/sdss_dr18_all.csv\")\n",
    "\n",
    "    for row in tqdm(df.itertuples()):\n",
    "        url = (\"http://skyserver.sdss.org/dr18/SkyserverWS/ImgCutout/getjpeg\"\n",
    "               \"?ra={}\"\n",
    "               \"&dec={}\"\n",
    "               \"&scale={}\"\n",
    "               \"&width={}\"\n",
    "               \"&height={}\".format(row.ra, row.dec, 0.4, 64, 64))\n",
    "        img_data = requests.get(url).content\n",
    "        file_name = (\"C:/Users/brian/Documents/Research/galaxies/images/{}.jpg\".format(row.objid))\n",
    "        with open(file_name, 'wb') as handler:\n",
    "            handler.write(img_data);\n",
    "        \n",
    "    \n",
    "    end = time.time()\n",
    "    print(\"Time taken:\", end - start)"
   ]
  },
  {
   "cell_type": "code",
   "execution_count": 7,
   "id": "2ede37aa",
   "metadata": {},
   "outputs": [
    {
     "name": "stderr",
     "output_type": "stream",
     "text": [
      "188501it [18:12:58,  2.87it/s]"
     ]
    },
    {
     "name": "stdout",
     "output_type": "stream",
     "text": [
      "Time taken: 65578.17290687561\n"
     ]
    },
    {
     "name": "stderr",
     "output_type": "stream",
     "text": [
      "\n"
     ]
    }
   ],
   "source": [
    "main()"
   ]
  },
  {
   "cell_type": "code",
   "execution_count": null,
   "id": "becb763a",
   "metadata": {},
   "outputs": [],
   "source": []
  }
 ],
 "metadata": {
  "kernelspec": {
   "display_name": "Python 3 (ipykernel)",
   "language": "python",
   "name": "python3"
  },
  "language_info": {
   "codemirror_mode": {
    "name": "ipython",
    "version": 3
   },
   "file_extension": ".py",
   "mimetype": "text/x-python",
   "name": "python",
   "nbconvert_exporter": "python",
   "pygments_lexer": "ipython3",
   "version": "3.11.4"
  }
 },
 "nbformat": 4,
 "nbformat_minor": 5
}
